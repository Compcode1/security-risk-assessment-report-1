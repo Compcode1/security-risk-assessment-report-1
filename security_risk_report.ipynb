{
 "cells": [
  {
   "cell_type": "markdown",
   "metadata": {},
   "source": [
    "**Introduction**\n",
    "\n",
    "I am a security analyst working for a social media organization. The organization recently experienced a major data breach, which compromised the safety of their customers’ personal information, such as names and addresses. My organization wants to implement strong network hardening practices that can be performed consistently to prevent attacks and breaches in the future. \n",
    "\n",
    "After inspecting the organization’s network, I discover four major vulnerabilities. The four vulnerabilities are as follows:\n",
    "\n",
    "1. The organization’s employees' share passwords.\n",
    "\n",
    "2. The admin password for the database is set to the default.\n",
    "\n",
    "3. The firewalls do not have rules in place to filter traffic coming in and out of the network.\n",
    "\n",
    "4. Multifactor authentication (MFA) is not used. \n",
    "\n",
    "If no action is taken to address these vulnerabilities, the organization is at risk of experiencing another data breach or other attacks in the future. \n",
    "\n",
    "In this activity, you will write a security risk assessment to analyze the incident and explain what methods can be used to further secure the network."
   ]
  },
  {
   "cell_type": "markdown",
   "metadata": {},
   "source": [
    "**Security Risk Assessment Report Part 1: Select up to Three Hardening Tools and Methods to Implement**\n",
    "\n",
    "\n",
    "1. Multifactor Authentication (MFA)\n",
    "Implementing MFA ensures that users verify their identities in at least two ways before gaining access. This technique significantly reduces the likelihood of unauthorized access caused by password-sharing or brute force attacks.\n",
    "\n",
    "2. Password Policies\n",
    "Enforcing strong password policies, including salting and hashing, ensures passwords are resistant to brute force and credential stuffing attacks. Additionally, eliminating default passwords and requiring unique, secure passwords will mitigate vulnerabilities.\n",
    "\n",
    "3. Firewall Maintenance with Port Filtering\n",
    "Updating and maintaining firewall rules to block unused or unnecessary ports will control inbound and outbound traffic. This reduces the risk of unauthorized access to critical systems and limits exposure to malicious traffic.\n",
    "\n"
   ]
  },
  {
   "cell_type": "markdown",
   "metadata": {},
   "source": [
    "**Security Risk Assessment Report Part 2: Explain Your Recommendations**\n",
    "\n",
    "1. Multifactor Authentication (MFA)\n",
    "Effectiveness:\n",
    "MFA adds an extra layer of security by requiring multiple forms of verification, such as a password and a one-time code sent to a mobile device. Even if a malicious actor gains access to an employee's password, they will not have the secondary verification, mitigating risks like brute force attacks and password sharing.\n",
    "\n",
    "Implementation Frequency:\n",
    "Once set up, MFA requires minimal maintenance, with periodic reviews to ensure compatibility with the latest security protocols.\n",
    "\n",
    "2. Password Policies\n",
    "Effectiveness:\n",
    "Strong password policies eliminate vulnerabilities caused by weak or default passwords. Salting and hashing passwords protect them even if a breach occurs, as stored credentials will be meaningless without the hashing key.\n",
    "\n",
    "Implementation Frequency:\n",
    "Password policies should be implemented immediately and enforced with ongoing monitoring to ensure compliance. Regular password auditing can help identify weak or non-compliant passwords.\n",
    "\n",
    "3. Firewall Maintenance with Port Filtering\n",
    "Effectiveness:\n",
    "Firewalls with regularly updated rules protect the network by filtering traffic. Port filtering specifically prevents malicious actors from exploiting open ports, ensuring only authorized traffic is allowed. This practice is crucial to address the current lack of traffic filtering on the network.\n",
    "\n",
    "Implementation Frequency:\n",
    "Firewall rules should be reviewed and updated regularly, particularly after any security incident or system changes.\n",
    "Conclusion\n",
    "\n",
    "By implementing MFA, strong password policies, and rigorous firewall maintenance with port filtering, the organization can address current vulnerabilities and prevent future data breaches. These techniques enhance the security posture by limiting unauthorized access, securing stored credentials, and controlling network traffic. Regular monitoring and updates will ensure these measures remain effective over time.\n"
   ]
  },
  {
   "cell_type": "markdown",
   "metadata": {},
   "source": [
    "**Additional Notes**\n",
    "\n",
    "**Baseline configurations**\tA documented set of specifications within a system that is used as a basis for future builds, releases, and updates.\tTo restore a system to a previous baseline after a network outage, or unauthorized changes on a baseline.\n",
    "\n",
    "**Configuration checks** Updating the encryption standards for data that is stored in databases. To see if there are any unauthorized changes to the system.\n",
    "\n",
    "**Disabling unused ports**\tPorts can be blocked on firewalls, routers, servers, and more to prevent potentially dangerous network traffic from passing through.\tBefore an incident occurs, to prevent malicious actors from entering the network through the open port. Can be used after an incident to prevent future attacks from happening through unused open ports.\n",
    "\n",
    "**Encryption using the latest standards**\tRules or methods used to conceal outgoing data and uncover or decrypt the incoming data.\tCan be implemented regularly to assess if the current encryption standards are secure and effective for your organization. The encryption standards can also be updated after a data breach.\n",
    "\n",
    "**Firewall maintenance**\tFirewall maintenance entails checking and updating security configurations regularly to stay ahead of potential threats.\tThis can happen regularly. Firewall rules can be updated in response to an event that allows abnormal network traffic into the network. This measure can be used to protect against various DDoS attacks.\n",
    "\n",
    "**Hardware & software disposal**\tEnsures that all old hardware is properly wiped of all data and disposed of.\tPrevent the network from various threats by removing outdated or unused software or hardware that do not have the latest security patches or updates. Unpatched devices can allow malicious actors to easily access the network.\n",
    "\n",
    "**Multifactor authentication (MFA)**\tA security measure which requires a user to verify their identity in two or more ways to access a system or network. MFA options include a password, pin number, badge, one-time password (OTP) sent to a cell phone, fingerprint, and more.\tCan help protect against brute force attacks and similar security events. MFA can be implemented at any time, and is mostly a technique that is set up once then maintained.\n",
    "\n",
    "**Network access privileges**\tNetwork access privileges involves permitting, limiting, and/or blocking access privileges to network assets for people, roles, groups, IP addresses, MAC addresses, etc.\tReduces the risk of unauthorized users and outside traffic from accessing the internal network. This can be implemented once, or revisited depending on the likelihood of social engineering or brute force attacks.\n",
    "\n",
    "**Network log analysis**\tThe process of examining network logs to identify events of interest.\tCan be configured to alert the security team when there is abnormal traffic on the network. This can be used either before an incident occurs, during to track network traffic, and can be configured in the response of a cybersecurity attack. A common tool used for analyzing network logs is a SIEM.\n",
    "\n",
    "**Password policies**\tThe National Institute of Standards and Technology's (NIST) latest recommendations for password policies focuses on using methods to salt and hash passwords, rather than requiring overly complex passwords or enforcing frequent changes to passwords.\tPassword policies are used to prevent attackers from easily guessing user passwords, either manually or by using a script to attempt thousands of stolen passwords (commonly called a brute force attack).\n",
    "\n",
    "**Patch updates**\tA software and operating system (OS) update that addresses security vulnerabilities within a program or product.\tPatch updates often contain fixes to security problems. It is important to keep systems up to date with the latest security patches because attackers will be alerted to the security vulnerability when patches are released. They will be more likely to target that vulnerability before people eventually apply the patches.\n",
    "\n",
    "**Penetration test (pen test)**\tA simulated attack that helps identify vulnerabilities in systems, networks, websites, applications, and processes.\tPen tests are used to protect and prevent against potential attacks.\n",
    "\n",
    "**Port filtering**\tA firewall function that blocks or allows certain port numbers to limit unwanted communication.\tPort filtering is used to control network traffic and can prevent potential attackers from entering a private network.\n",
    "\n",
    "**Removing or disabling unused applications and services**\tUnused applications and services can become a point of vulnerability because they are less likely to be maintained or updated with new security features.\tThis procedure is used to reduce potential vulnerabilities within a network.\n",
    "\n",
    "**Server and data storage backups**\tServer and data storage backups help protect data assets from being lost. Backups can be recorded and stored in a physical location or uploaded/synced to a cloud repository.\tBackups are used to restore lost data from attacks, human error, equipment failures, and other unplanned losses."
   ]
  }
 ],
 "metadata": {
  "language_info": {
   "name": "python"
  }
 },
 "nbformat": 4,
 "nbformat_minor": 2
}
